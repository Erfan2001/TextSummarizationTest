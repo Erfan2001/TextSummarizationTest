{
  "cells": [
    {
      "cell_type": "code",
      "execution_count": 1,
      "metadata": {},
      "outputs": [
        {
          "name": "stdout",
          "output_type": "stream",
          "text": [
            "Requirement already satisfied: rouge in c:\\users\\asus\\appdata\\local\\programs\\python\\python310\\lib\\site-packages (1.0.1)\n",
            "Requirement already satisfied: six in c:\\users\\asus\\appdata\\local\\programs\\python\\python310\\lib\\site-packages (from rouge) (1.16.0)\n",
            "Requirement already satisfied: pyrouge in c:\\users\\asus\\appdata\\local\\programs\\python\\python310\\lib\\site-packages (0.1.3)\n",
            "Looking in links: https://data.dgl.ai/wheels/cu117/repo.html\n",
            "Requirement already satisfied: dgl in c:\\users\\asus\\appdata\\local\\programs\\python\\python310\\lib\\site-packages (1.1.0)\n",
            "Requirement already satisfied: numpy>=1.14.0 in c:\\users\\asus\\appdata\\local\\programs\\python\\python310\\lib\\site-packages (from dgl) (1.24.3)\n",
            "Requirement already satisfied: scipy>=1.1.0 in c:\\users\\asus\\appdata\\local\\programs\\python\\python310\\lib\\site-packages (from dgl) (1.10.1)\n",
            "Requirement already satisfied: networkx>=2.1 in c:\\users\\asus\\appdata\\local\\programs\\python\\python310\\lib\\site-packages (from dgl) (3.1)\n",
            "Requirement already satisfied: requests>=2.19.0 in c:\\users\\asus\\appdata\\local\\programs\\python\\python310\\lib\\site-packages (from dgl) (2.30.0)\n",
            "Requirement already satisfied: tqdm in c:\\users\\asus\\appdata\\local\\programs\\python\\python310\\lib\\site-packages (from dgl) (4.65.0)\n",
            "Requirement already satisfied: psutil>=5.8.0 in c:\\users\\asus\\appdata\\local\\programs\\python\\python310\\lib\\site-packages (from dgl) (5.9.5)\n",
            "Requirement already satisfied: charset-normalizer<4,>=2 in c:\\users\\asus\\appdata\\local\\programs\\python\\python310\\lib\\site-packages (from requests>=2.19.0->dgl) (3.1.0)\n",
            "Requirement already satisfied: idna<4,>=2.5 in c:\\users\\asus\\appdata\\local\\programs\\python\\python310\\lib\\site-packages (from requests>=2.19.0->dgl) (3.4)\n",
            "Requirement already satisfied: urllib3<3,>=1.21.1 in c:\\users\\asus\\appdata\\local\\programs\\python\\python310\\lib\\site-packages (from requests>=2.19.0->dgl) (2.0.2)\n",
            "Requirement already satisfied: certifi>=2017.4.17 in c:\\users\\asus\\appdata\\local\\programs\\python\\python310\\lib\\site-packages (from requests>=2.19.0->dgl) (2023.5.7)\n",
            "Requirement already satisfied: colorama in c:\\users\\asus\\appdata\\local\\programs\\python\\python310\\lib\\site-packages (from tqdm->dgl) (0.4.6)\n"
          ]
        },
        {
          "name": "stderr",
          "output_type": "stream",
          "text": [
            "[nltk_data] Downloading package stopwords to\n",
            "[nltk_data]     C:\\Users\\ASUS\\AppData\\Roaming\\nltk_data...\n",
            "[nltk_data]   Package stopwords is already up-to-date!\n"
          ]
        },
        {
          "data": {
            "text/plain": [
              "True"
            ]
          },
          "execution_count": 1,
          "metadata": {},
          "output_type": "execute_result"
        }
      ],
      "source": [
        "! pip install rouge\n",
        "! pip install pyrouge\n",
        "! pip install  dgl -f https://data.dgl.ai/wheels/cu117/repo.html\n",
        "\n",
        "import nltk\n",
        "nltk.download('stopwords')"
      ]
    },
    {
      "cell_type": "code",
      "execution_count": 7,
      "metadata": {
        "colab": {
          "base_uri": "https://localhost:8080/"
        },
        "id": "yVRItSZqLAEe",
        "outputId": "16ead518-16c2-43a7-ff2a-dd46bbbf175d"
      },
      "outputs": [],
      "source": [
        "! python HeterSumGraph\\train.py \\\n",
        "                 --cuda --gpu 0 --data_dir datasets\\cnndm \\\n",
        "                     --cache_dir HeterSumGraph\\cache\\CNNDM \\\n",
        "                      --embedding_path embeddings\\glove.42B.300d.txt \\\n",
        "                       --model HSG \\\n",
        "                        --save_root HeterSumGraph\\results\\log \\\n",
        "                         --log_root HeterSumGraph\\results\\log \\\n",
        "                          --lr_descent \\\n",
        "                           --grad_clip \\\n",
        "                           --batch_size 32 -m 3 \\\n",
        "                           --n_epochs 2"
      ]
    }
  ],
  "metadata": {
    "accelerator": "GPU",
    "colab": {
      "collapsed_sections": [
        "bkrq-fUtHdq_",
        "DtifeYChSohP"
      ],
      "machine_shape": "hm",
      "provenance": []
    },
    "gpuClass": "standard",
    "kernelspec": {
      "display_name": "Python 3",
      "name": "python3"
    },
    "language_info": {
      "codemirror_mode": {
        "name": "ipython",
        "version": 3
      },
      "file_extension": ".py",
      "mimetype": "text/x-python",
      "name": "python",
      "nbconvert_exporter": "python",
      "pygments_lexer": "ipython3",
      "version": "3.10.0"
    }
  },
  "nbformat": 4,
  "nbformat_minor": 0
}
